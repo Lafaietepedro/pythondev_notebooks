{
 "cells": [
  {
   "cell_type": "code",
   "execution_count": null,
   "metadata": {},
   "outputs": [],
   "source": [
    "altura = 20\n",
    "espacamento = 0\n",
    "asterisco = 1\n",
    "simbolo = '*'\n",
    "\n",
    "for i in range(altura):\n",
    "    espacamento = altura - i - 1\n",
    "    \n",
    "    for j in range(espacamento):\n",
    "        print(' ', end='')\n",
    "    \n",
    "    for k in range(asterisco):\n",
    "        print(simbolo, end='')\n",
    "        \n",
    "    print()\n",
    "    asterisco += 2"
   ]
  },
  {
   "cell_type": "markdown",
   "metadata": {},
   "source": [
    "## Sorteio"
   ]
  },
  {
   "cell_type": "code",
   "execution_count": null,
   "metadata": {},
   "outputs": [],
   "source": [
    "import os\n",
    "import random\n",
    "\n",
    "lista = []\n",
    "lista_sorteados = []\n",
    "\n",
    "while True:\n",
    "    nome = input(\"Digite os nomes que serão sorteados: \")\n",
    "    \n",
    "    if nome != '':\n",
    "        lista.append(nome)\n",
    "    else:\n",
    "        break\n",
    "    \n",
    "while True:\n",
    "    if lista:\n",
    "        os.system(\"cls\")\n",
    "        premiado = random.choice(lista)\n",
    "        lista_sorteados.append(premiado)\n",
    "        lista.remove(premiado)\n",
    "        \n",
    "        print(f'O premiado da vez é o {premiado}')\n",
    "\n",
    "        opcao = input(\"Deseja realizar um novo sorteio? (s/n)\").lower()\n",
    "        os.system(\"cls\")\n",
    "        \n",
    "        if opcao != 's':\n",
    "            break\n",
    "    else:\n",
    "        print(\"Não existem nomes para ser sorteados!\")\n",
    "        break\n",
    "        \n",
    "print(\"Sistema finalizado!\")\n",
    "print(lista)\n",
    "print(lista_sorteados)"
   ]
  },
  {
   "cell_type": "markdown",
   "metadata": {},
   "source": [
    "## Jogo Adivinhação"
   ]
  },
  {
   "cell_type": "code",
   "execution_count": 10,
   "metadata": {},
   "outputs": [
    {
     "name": "stdout",
     "output_type": "stream",
     "text": [
      "Bem vindo ao Python Games!\n",
      "Você possui 5 tentativas para adivinhar o numero secreto entre 1 e 5\n",
      "Você errou! O número secreto é menor.\n",
      "Parabéns! Você acertou!\n"
     ]
    }
   ],
   "source": [
    "import random\n",
    "\n",
    "numero_secreto = random.randint(1, 5)\n",
    "\n",
    "tentativas = 0\n",
    "max_tentativas = 5\n",
    "acertou = False\n",
    "\n",
    "print(\"Bem vindo ao Python Games!\")\n",
    "print(f\"Você possui {max_tentativas} tentativas para adivinhar o numero secreto entre 1 e 5\")\n",
    "\n",
    "while tentativas < max_tentativas:\n",
    "    palpite = int(input('Digite um número inteiro: '))\n",
    "    tentativas += 1\n",
    "    \n",
    "    if palpite == numero_secreto:\n",
    "        acertou = True\n",
    "        break\n",
    "    elif palpite < numero_secreto:\n",
    "        print(\"Você errou! O número secreto é maior.\")\n",
    "    else:\n",
    "        print(\"Você errou! O número secreto é menor.\")\n",
    "    \n",
    "if acertou:\n",
    "    print(\"Parabéns! Você acertou!\")\n",
    "else:\n",
    "    print(f\"Você perdeu! O número secreto era {numero_secreto}\")"
   ]
  }
 ],
 "metadata": {
  "kernelspec": {
   "display_name": "Python 3",
   "language": "python",
   "name": "python3"
  },
  "language_info": {
   "codemirror_mode": {
    "name": "ipython",
    "version": 3
   },
   "file_extension": ".py",
   "mimetype": "text/x-python",
   "name": "python",
   "nbconvert_exporter": "python",
   "pygments_lexer": "ipython3",
   "version": "3.12.4"
  }
 },
 "nbformat": 4,
 "nbformat_minor": 2
}
