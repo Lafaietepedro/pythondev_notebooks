{
 "cells": [
  {
   "cell_type": "code",
   "execution_count": null,
   "metadata": {},
   "outputs": [],
   "source": [
    "altura = 20\n",
    "espacamento = 0\n",
    "asterisco = 1\n",
    "simbolo = '*'\n",
    "\n",
    "for i in range(altura):\n",
    "    espacamento = altura - i - 1\n",
    "    \n",
    "    for j in range(espacamento):\n",
    "        print(' ', end='')\n",
    "    \n",
    "    for k in range(asterisco):\n",
    "        print(simbolo, end='')\n",
    "        \n",
    "    print()\n",
    "    asterisco += 2"
   ]
  }
 ],
 "metadata": {
  "language_info": {
   "name": "python"
  }
 },
 "nbformat": 4,
 "nbformat_minor": 2
}
