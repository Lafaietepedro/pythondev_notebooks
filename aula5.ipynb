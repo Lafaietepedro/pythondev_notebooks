{
 "cells": [
  {
   "cell_type": "markdown",
   "metadata": {},
   "source": [
    "## Atividades"
   ]
  },
  {
   "cell_type": "markdown",
   "metadata": {},
   "source": [
    "- Desafio 1"
   ]
  },
  {
   "cell_type": "code",
   "execution_count": 2,
   "metadata": {},
   "outputs": [
    {
     "name": "stdout",
     "output_type": "stream",
     "text": [
      "O número 4 é par\n"
     ]
    }
   ],
   "source": [
    "num = int(input(\"Digite um número:\"))\n",
    "\n",
    "if num % 2 == 0:\n",
    "    print(f\"O número {num} é par\")\n",
    "else:\n",
    "    print(f\"O número {num} é ímpar\")"
   ]
  },
  {
   "cell_type": "markdown",
   "metadata": {},
   "source": [
    "- Desafio 2"
   ]
  },
  {
   "cell_type": "code",
   "execution_count": 3,
   "metadata": {},
   "outputs": [
    {
     "name": "stdout",
     "output_type": "stream",
     "text": [
      "O peso da carga é maior que o permitido!\n"
     ]
    }
   ],
   "source": [
    "peso = float(input(\"Digite o peso da carga: \"))\n",
    "\n",
    "if peso > 200:\n",
    "    print(\"O peso da carga é maior que o permitido!\")\n",
    "else:\n",
    "    print(\"Peso dentro do limite permitido!\")"
   ]
  },
  {
   "cell_type": "markdown",
   "metadata": {},
   "source": [
    "- Desafio 3"
   ]
  },
  {
   "cell_type": "code",
   "execution_count": 10,
   "metadata": {},
   "outputs": [
    {
     "name": "stdout",
     "output_type": "stream",
     "text": [
      "Nome do Aluno: Joao | Idade: 18 | CPF: 111.999.999-99\n",
      "\n",
      "Nota 1º Bimestre: 8.0\n",
      "Nota 2º Bimestre: 5.0\n",
      "Nota 3º Bimestre: 9.0\n",
      "Nota 4º Bimestre: 7.0\n",
      "\n",
      "Media Final: 7.2\n",
      "Situação: Aprovado\n",
      "\n",
      "Boletim retirado pelos pais do aluno Joao\n"
     ]
    }
   ],
   "source": [
    "nome = input(\"Digite seu nome: \")\n",
    "idade = int(input(\"Digite sua idade: \"))\n",
    "cpf = str(input(\"Digite seu CPF: \"))\n",
    "\n",
    "nota_bm1, nota_bm2, nota_bm3, nota_bm4 = map(float, input(\"Digite a notas dos quatro bimestres respectivamente: \").split())\n",
    "\n",
    "media = (nota_bm1 + nota_bm2 + nota_bm3 + nota_bm4) / 4\n",
    "\n",
    "if idade < 18:\n",
    "    print(\"É preciso ter mais de 18 anos para retirar o Boletim Escolar!\")\n",
    "else:\n",
    "    if media >= 7:\n",
    "        print(f'Nome do Aluno: {nome} | Idade: {idade} | CPF: {cpf}\\n')\n",
    "        print(f'Nota 1º Bimestre: {nota_bm1}\\nNota 2º Bimestre: {nota_bm2}\\nNota 3º Bimestre: {nota_bm3}\\nNota 4º Bimestre: {nota_bm4}\\n')\n",
    "        print(f'Media Final: {media:.1f}')\n",
    "        print(f'Situação: Aprovado\\n')\n",
    "        print(f'Boletim retirado pelos pais do aluno {nome}')\n",
    "    elif media >= 5 and media < 7:\n",
    "        print(f'Nome do Aluno: {nome} | Idade: {idade} | CPF: {cpf}\\n')\n",
    "        print(f'Nota 1º Bimestre: {nota_bm1}\\nNota 2º Bimestre: {nota_bm2}\\nNota 3º Bimestre: {nota_bm3}\\nNota 4º Bimestre: {nota_bm4}\\n')\n",
    "        print(f'Media Final: {media:.1f}')\n",
    "        print(f'Situação: Recuperação\\n')\n",
    "        print(f'Boletim retirado pelos pais do aluno {nome}')\n",
    "    else:\n",
    "        print(f'Nome do Aluno: {nome} | Idade: {idade} | CPF: {cpf}\\n')\n",
    "        print(f'Nota 1º Bimestre: {nota_bm1}\\nNota 2º Bimestre: {nota_bm2}\\nNota 3º Bimestre: {nota_bm3}\\nNota 4º Bimestre: {nota_bm4}\\n')\n",
    "        print(f'Media Final: {media:.1f}')\n",
    "        print(f'Situação: Reprovado\\n')\n",
    "        print(f'Boletim retirado pelos pais do aluno {nome}')"
   ]
  }
 ],
 "metadata": {
  "kernelspec": {
   "display_name": "Python 3",
   "language": "python",
   "name": "python3"
  },
  "language_info": {
   "codemirror_mode": {
    "name": "ipython",
    "version": 3
   },
   "file_extension": ".py",
   "mimetype": "text/x-python",
   "name": "python",
   "nbconvert_exporter": "python",
   "pygments_lexer": "ipython3",
   "version": "3.12.4"
  }
 },
 "nbformat": 4,
 "nbformat_minor": 2
}
