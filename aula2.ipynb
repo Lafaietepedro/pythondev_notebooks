{
 "cells": [
  {
   "cell_type": "markdown",
   "metadata": {},
   "source": [
    "## Declarando Variáveis"
   ]
  },
  {
   "cell_type": "code",
   "execution_count": null,
   "metadata": {},
   "outputs": [],
   "source": [
    "nome = \"Joao\" #string\n",
    "idade = 20 #inteiro\n",
    "peso = 80 #inteiro\n",
    "altura = 1.75 #float\n",
    "instrutor = True #boolean\n",
    "\n",
    "print(nome, type(nome))\n",
    "print(idade, type(idade))\n",
    "print(peso, type(peso))\n",
    "print(altura, type(altura))\n",
    "print(instrutor, type(instrutor))"
   ]
  },
  {
   "cell_type": "markdown",
   "metadata": {},
   "source": [
    "## Convertendo tipos de dados"
   ]
  },
  {
   "cell_type": "code",
   "execution_count": null,
   "metadata": {},
   "outputs": [],
   "source": [
    "print(\"Olá Mundo!\")\n",
    "\n",
    "'''\n",
    "Comentários de Bloco\n",
    "\n",
    "'''\n",
    "\n",
    "#Comentário de linha\n",
    "\n",
    "valor = 15\n",
    "print(\"Valor sem conversão\", type(valor))\n",
    "valor = str(valor)\n",
    "print(\"Valor já convertido\", type(valor))\n"
   ]
  },
  {
   "cell_type": "markdown",
   "metadata": {},
   "source": [
    "## Concatenação\n",
    "\n",
    " - Concatenação usando o sinal de +, eu não consigo concatenar variáveis do tipo int(inteiro)!!"
   ]
  },
  {
   "cell_type": "code",
   "execution_count": 36,
   "metadata": {},
   "outputs": [
    {
     "name": "stdout",
     "output_type": "stream",
     "text": [
      "Olá, meu nome é Joao e tenho 18 anos de idade!\n",
      "Olá, meu nome é  Joao  e tenho  18  anos de idade!\n",
      "Olá, meu nome é Joao e tenho 18 anos de idade!\n",
      "Olá, meu nome é Joao e tenho 18 anos de idade!\n"
     ]
    }
   ],
   "source": [
    "nome = \"Joao\"\n",
    "idade = 18\n",
    "altura = 1.75\n",
    "\n",
    "#Modo 1\n",
    "print(\"Olá, meu nome é \"+nome+\" e tenho \"+ str(idade) +\" anos de idade!\")\n",
    "#Modo 2\n",
    "print(\"Olá, meu nome é \", nome, \" e tenho \" , idade, \" anos de idade!\")\n",
    "#Modo 3\n",
    "print(f'Olá, meu nome é {nome} e tenho {idade} anos de idade!')\n",
    "#Modo 4\n",
    "print('Olá, meu nome é %s e tenho %i anos de idade!' %(nome, idade))"
   ]
  },
  {
   "cell_type": "markdown",
   "metadata": {},
   "source": [
    "## Entrada de dados"
   ]
  },
  {
   "cell_type": "code",
   "execution_count": 38,
   "metadata": {},
   "outputs": [
    {
     "name": "stdout",
     "output_type": "stream",
     "text": [
      "Juao\n"
     ]
    }
   ],
   "source": [
    "nome = input(\"Digite seu nome: \")\n",
    "print(nome)"
   ]
  },
  {
   "cell_type": "markdown",
   "metadata": {},
   "source": [
    "## Atividade\n",
    "\n",
    "- Criar um sistema para receber o nome, idade, peso e altura do usuario\n",
    "- Restringir a idade para receber somente valores inteiros\n",
    "- Imprimir todas as informações do usuário usando a concatenação fstring\n",
    "- Imprimir o Tipo de dado de cada uma das variáveis"
   ]
  },
  {
   "cell_type": "code",
   "execution_count": 61,
   "metadata": {},
   "outputs": [
    {
     "name": "stdout",
     "output_type": "stream",
     "text": [
      "A idade digitada é inválida!! Digite uma idade válida!\n",
      "A idade digitada é inválida!! Digite uma idade válida!\n",
      "A idade digitada é inválida!! Digite uma idade válida!\n",
      "O nome do usuário é Joao.\n",
      "A idade de Joao é 23 anos.\n",
      "O peso de Joao é 85.6 kg.\n",
      "A altura de Joao é 1.86 metros.\n",
      "================================================================\n",
      "A variável nome é do tipo <class 'str'>.\n",
      "A variável idade é do tipo <class 'str'>.\n",
      "A variável peso é do tipo <class 'float'>.\n",
      "A variável altura é do tipo <class 'float'>.\n"
     ]
    }
   ],
   "source": [
    "nome = str(input(\"Digite seu nome: \"))\n",
    "\n",
    "while True:\n",
    "    try:\n",
    "        idade = int(input(\"Digite sua idade: \"))\n",
    "        break\n",
    "    except ValueError:\n",
    "        print(\"A idade digitada é inválida!! Digite uma idade válida!\")\n",
    "    \n",
    "peso = float(input(\"Digite seu peso em kg: \"))\n",
    "altura = float(input(\"Digite sua altura: \"))\n",
    "\n",
    "print(f'O nome do usuário é {nome}.')\n",
    "print(f'A idade de {nome} é {idade} anos.')\n",
    "print(f'O peso de {nome} é {peso} kg.')\n",
    "print(f'A altura de {nome} é {altura} metros.')\n",
    "print(\"================================================================\")\n",
    "print(f'A variável nome é do tipo {type(nome)}.')\n",
    "print(f'A variável idade é do tipo {type(nome)}.')\n",
    "print(f'A variável peso é do tipo {type(peso)}.')\n",
    "print(f'A variável altura é do tipo {type(altura)}.')\n"
   ]
  }
 ],
 "metadata": {
  "kernelspec": {
   "display_name": ".venv",
   "language": "python",
   "name": "python3"
  },
  "language_info": {
   "codemirror_mode": {
    "name": "ipython",
    "version": 3
   },
   "file_extension": ".py",
   "mimetype": "text/x-python",
   "name": "python",
   "nbconvert_exporter": "python",
   "pygments_lexer": "ipython3",
   "version": "3.12.4"
  }
 },
 "nbformat": 4,
 "nbformat_minor": 2
}
