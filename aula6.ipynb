{
 "cells": [
  {
   "cell_type": "markdown",
   "metadata": {},
   "source": [
    "## Operador ternário\n",
    "- Usar operador ternário quando as alternativas forem pequenas, e quando tiver apenas 2 ou no máximo 3 alternativas.\n",
    "- No exemplo a variável precisa ser inteira"
   ]
  },
  {
   "cell_type": "code",
   "execution_count": null,
   "metadata": {},
   "outputs": [
    {
     "name": "stdout",
     "output_type": "stream",
     "text": [
      "karython é maior de idade.\n"
     ]
    }
   ],
   "source": [
    "nome = 'karython'\n",
    "idade = 18\n",
    "\n",
    "print(nome, 'é maior de idade.' if idade >= 18 else 'é menor de idade')"
   ]
  },
  {
   "cell_type": "markdown",
   "metadata": {},
   "source": [
    "## Replace\n",
    "- substituir"
   ]
  },
  {
   "cell_type": "code",
   "execution_count": null,
   "metadata": {},
   "outputs": [
    {
     "name": "stdout",
     "output_type": "stream",
     "text": [
      "<class 'str'>\n",
      "<class 'float'>\n"
     ]
    }
   ],
   "source": [
    "peso = input(\"Digite seu peso: \").replace(',','.')\n",
    "print(type(peso))\n",
    "peso = float(peso)\n",
    "print(type(peso))\n"
   ]
  },
  {
   "cell_type": "markdown",
   "metadata": {},
   "source": [
    "## Desafio 01\n",
    "- Crie um programa para fazer a verificação de um cliente para saber se ele pode usar o brinquedo ou não.\n",
    "    - Para brincar ele precisa:\n",
    "        - ter mais que 12 anos\n",
    "        - ter altura minima de 1,20 mts"
   ]
  },
  {
   "cell_type": "code",
   "execution_count": null,
   "metadata": {},
   "outputs": [],
   "source": [
    "# TODO: Resposta desafio 01\n",
    "idade = int(input(\"Insira sua idade: \"))\n",
    "altura = float(input(\"Insira sua altura: \").replace(',','.'))\n",
    "\n",
    "if (idade >= 12 and altura >= 1.20):\n",
    "    print(\"Você pode brincar :)\")\n",
    "else:\n",
    "    print(\"Você não pode brincar :(\")\n",
    "    \n"
   ]
  },
  {
   "cell_type": "markdown",
   "metadata": {},
   "source": [
    "## Desafio 02\n",
    "- Crie um programa que verifica se o aluno poderar ir a praia.\n",
    "    - Para ir a praia ele precisa:\n",
    "        - Verifica se acordei de bom humor\n",
    "        - Verifica se o pai ja chegou em casa para leva-lo"
   ]
  },
  {
   "cell_type": "code",
   "execution_count": null,
   "metadata": {},
   "outputs": [],
   "source": [
    "# TODO: Resposta desafio 02\n",
    "validacao = input(\"Você acordou de bom humor? Sim/Não \")\n",
    "pai = input(\"Seu pai já chegou em casa? Sim/Não \")\n",
    "\n",
    "sim = [\"Sim\",\"sim\",\"S\",\"s\"]\n",
    "\n",
    "if validacao in sim and pai in sim:\n",
    "    print(\"Você poderá ir à praia!\")\n",
    "else:\n",
    "    print(\"Você não poderá ir à praia :(\")"
   ]
  },
  {
   "cell_type": "markdown",
   "metadata": {},
   "source": [
    "## Desafio 03\n",
    "- Crie um programa que modifique o cpf digitado\n",
    "    - pegue um cpf qualquer com todos os digitos:\n",
    "        - remova os caracteres\n",
    "        - imprima o cpf sem modificação\n",
    "        - imprima o cpf com modificação"
   ]
  },
  {
   "cell_type": "code",
   "execution_count": null,
   "metadata": {},
   "outputs": [],
   "source": [
    "# TODO: Resposta desafio 03\n",
    "cpf = input(\"Digite seu CPF: \")\n",
    "cpf_modificado = cpf.replace(\".\", \"\").replace(\".\", \"\")\n",
    "\n",
    "print(f\"CPF: {cpf}\")\n",
    "print(f\"CPF Modificado: {cpf_modificado}\")\n"
   ]
  },
  {
   "cell_type": "markdown",
   "metadata": {},
   "source": [
    "## Desafio 04\n",
    "- Crie uma calculadora de IMC\n",
    "    - Imprima as seguintes condições:?\n",
    "        - imc <17: está com anorexia.\n",
    "        - imc <18.5: está abaixo do peso\n",
    "        - imc <25: está no peso ideal.\n",
    "        - imc <30: está acima do peso.\n",
    "        - imc <35: está com grau de obesidade I.\n",
    "        - imc <40: está com grau de obesidade II.\n",
    "        - imc: está com grau de obesidade mórbida."
   ]
  },
  {
   "cell_type": "code",
   "execution_count": null,
   "metadata": {},
   "outputs": [],
   "source": [
    "# TODO: Resposta desafio 04\n",
    "peso = float(input(\"Digite seu peso: \").replace(\",\",\".\"))\n",
    "altura = float(input(\"Digite sua altura: \").replace(\",\",\".\"))\n",
    "\n",
    "imc = peso / (altura ** 2)\n",
    "\n",
    "if imc < 17:\n",
    "    print(f\"Seu IMC: {imc:.1f} | Situação: Anorexia\")\n",
    "elif imc < 18.5 and imc > 17:\n",
    "    print(f\"Seu IMC: {imc:.1f} | Situação: Abaixo do peso\")\n",
    "elif imc < 25 and imc > 18.5:\n",
    "    print(f\"Seu IMC: {imc:.1f} | Situação: Peso ideal\")\n",
    "elif imc < 30 and imc > 25:\n",
    "    print(f\"Seu IMC: {imc:.1f} | Situação: Acima do peso\")\n",
    "elif imc < 35 and imc > 30:\n",
    "    print(f\"Seu IMC: {imc:.1f} | Situação: Obesiadade Grau I\")\n",
    "elif imc < 40 and imc > 35:\n",
    "    print(f\"Seu IMC: {imc:.1f} | Situação: Obesidade Grau II\")\n",
    "else:\n",
    "    print(f\"Seu IMC: {imc:.1f} | Situação: Obesidade Mórbida\")"
   ]
  },
  {
   "cell_type": "markdown",
   "metadata": {},
   "source": [
    "## Desafio 05\n",
    "- Crie uma calculadora basica.\n",
    "    - Solicite 2 números do usuário e pergunte qual operação matemática ele deseja fazer.\n",
    "        -   +; -; /; *\n",
    "        - imprima o resultado correto para cada operação"
   ]
  },
  {
   "cell_type": "code",
   "execution_count": null,
   "metadata": {},
   "outputs": [],
   "source": [
    "# TODO: Resposta desafio 05\n",
    "while True:\n",
    "    numero1 = float(input(\"Digite o primeiro número: \"))\n",
    "    numero2 = float(input(\"Digite o segundo número: \"))\n",
    "    operacao = input(\"Qual operação quer realizar? ( + , - , / , * )\")\n",
    "\n",
    "    operacoes = [\"+\", \"-\", \"/\",\"*\"]\n",
    "\n",
    "    for operador in operacoes:\n",
    "        if operacao == operador:\n",
    "            if operacao == \"+\":\n",
    "                print(f\"{numero1} + {numero2} = {numero1 + numero2}\")\n",
    "            elif operacao == \"-\":\n",
    "                print(f\"{numero1} - {numero2} = {numero1 - numero2}\")\n",
    "            elif operacao == \"/\":\n",
    "                print(f\"{numero1} / {numero2} = {numero1 / numero2}\")\n",
    "            elif operacao == \"*\":\n",
    "                print(f\"{numero1} * {numero2} = {numero1 * numero2}\")\n",
    "            else:\n",
    "                print(\"Operação inválida\")\n",
    "    \n",
    "    continuar = input(\"Deseja continuar? (S/N) \")\n",
    "    if continuar == \"N\" or continuar == \"n\":\n",
    "        break"
   ]
  }
 ],
 "metadata": {
  "language_info": {
   "name": "python"
  }
 },
 "nbformat": 4,
 "nbformat_minor": 2
}
