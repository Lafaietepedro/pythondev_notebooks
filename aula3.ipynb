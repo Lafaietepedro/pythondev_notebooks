{
 "cells": [
  {
   "cell_type": "markdown",
   "metadata": {},
   "source": [
    "## Operadores\n",
    "\n",
    "- Soma\n",
    "- Subtração\n",
    "- Multiplicação\n",
    "- Divisão"
   ]
  },
  {
   "cell_type": "code",
   "execution_count": null,
   "metadata": {},
   "outputs": [],
   "source": [
    "#Soma\n",
    "print(10+10)\n",
    "#Concatena\n",
    "print('10'+'10')\n",
    "\n",
    "#Somando com variáveis\n",
    "num1 = 10\n",
    "num2 = 10\n",
    "\n",
    "soma = num1+num2\n",
    "\n",
    "print(soma)\n",
    "\n",
    "valor1 = int(input(\"Digite o primeiro valor:\"))\n",
    "valor2 = int(input(\"Digite o segundo valor:\"))\n",
    "\n",
    "resultado = valor1 + valor2\n",
    "print(f'O resultado é: {resultado}')"
   ]
  },
  {
   "cell_type": "code",
   "execution_count": null,
   "metadata": {},
   "outputs": [],
   "source": [
    "#Subtração\n",
    "\n",
    "num1 = 20\n",
    "num2 = 50\n",
    "\n",
    "subtracao = num1 - num2\n",
    "\n",
    "print(subtracao, type(subtracao))"
   ]
  },
  {
   "cell_type": "code",
   "execution_count": 9,
   "metadata": {},
   "outputs": [
    {
     "name": "stdout",
     "output_type": "stream",
     "text": [
      "600 <class 'int'>\n",
      "abcabcabcabcabc <class 'str'>\n"
     ]
    }
   ],
   "source": [
    "#Multiplicação\n",
    "\n",
    "num1 = 20\n",
    "num2 = 30\n",
    "\n",
    "multiplicacao1 = num1 * num2\n",
    "\n",
    "print(multiplicacao1, type(multiplicacao1))\n",
    "\n",
    "frase = \"abc\"\n",
    "valor = 5\n",
    "\n",
    "resultado = frase * valor\n",
    "print(resultado, type(resultado))\n",
    "\n"
   ]
  },
  {
   "cell_type": "code",
   "execution_count": 12,
   "metadata": {},
   "outputs": [
    {
     "name": "stdout",
     "output_type": "stream",
     "text": [
      "2.0 <class 'float'>\n"
     ]
    }
   ],
   "source": [
    "#Divisão\n",
    "\n",
    "num1 = 40\n",
    "num2 = 20\n",
    "\n",
    "divisao = num1 / num2\n",
    "\n",
    "print(divisao, type(divisao))"
   ]
  }
 ],
 "metadata": {
  "kernelspec": {
   "display_name": ".venv",
   "language": "python",
   "name": "python3"
  },
  "language_info": {
   "codemirror_mode": {
    "name": "ipython",
    "version": 3
   },
   "file_extension": ".py",
   "mimetype": "text/x-python",
   "name": "python",
   "nbconvert_exporter": "python",
   "pygments_lexer": "ipython3",
   "version": "3.12.4"
  }
 },
 "nbformat": 4,
 "nbformat_minor": 2
}
