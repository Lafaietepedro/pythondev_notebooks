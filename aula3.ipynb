{
 "cells": [
  {
   "cell_type": "markdown",
   "metadata": {},
   "source": [
    "## Operadores\n",
    "\n",
    "- Soma\n",
    "- Subtração\n",
    "- Multiplicação\n",
    "- Divisão"
   ]
  },
  {
   "cell_type": "code",
   "execution_count": null,
   "metadata": {},
   "outputs": [],
   "source": [
    "#Soma\n",
    "print(10+10)\n",
    "#Concatena\n",
    "print('10'+'10')\n",
    "\n",
    "#Somando com variáveis\n",
    "num1 = 10\n",
    "num2 = 10\n",
    "\n",
    "soma = num1+num2\n",
    "\n",
    "print(soma)\n",
    "\n",
    "valor1 = int(input(\"Digite o primeiro valor:\"))\n",
    "valor2 = int(input(\"Digite o segundo valor:\"))\n",
    "\n",
    "resultado = valor1 + valor2\n",
    "print(f'O resultado é: {resultado}')"
   ]
  },
  {
   "cell_type": "code",
   "execution_count": null,
   "metadata": {},
   "outputs": [],
   "source": [
    "#Subtração\n",
    "\n",
    "num1 = 20\n",
    "num2 = 50\n",
    "\n",
    "subtracao = num1 - num2\n",
    "\n",
    "print(subtracao, type(subtracao))"
   ]
  },
  {
   "cell_type": "code",
   "execution_count": null,
   "metadata": {},
   "outputs": [],
   "source": [
    "#Multiplicação\n",
    "\n",
    "num1 = 20\n",
    "num2 = 30\n",
    "\n",
    "multiplicacao1 = num1 * num2\n",
    "\n",
    "print(multiplicacao1, type(multiplicacao1))\n",
    "\n",
    "frase = \"abc\"\n",
    "valor = 5\n",
    "\n",
    "resultado = frase * valor\n",
    "print(resultado, type(resultado))\n",
    "\n"
   ]
  },
  {
   "cell_type": "code",
   "execution_count": null,
   "metadata": {},
   "outputs": [],
   "source": [
    "#Divisão\n",
    "\n",
    "num1 = 40\n",
    "num2 = 20\n",
    "\n",
    "divisao = num1 / num2\n",
    "\n",
    "print(divisao, type(divisao))"
   ]
  },
  {
   "cell_type": "markdown",
   "metadata": {},
   "source": [
    "## Atividade\n",
    "\n",
    "### Desafio 1\n",
    "- Declare 2 variáveis, cada uma com um valor definido. Some e mostre o resultado concatenado a um texto.\n",
    "\n",
    "### Desafio 2\n",
    "- Crie um sistema onde o usuário irá inserir 2 valores, guarde-os em variáveis, e em seguida realizae as 4 operações matemáticas básicas (+,-,*,/) e mostre o resultado de cada uma na tela com um texto indicando qual operação foi realizada.\n",
    "\n",
    "### Desafio 3\n",
    "- Crie um sistema que receba o nome do usuário, a idade, só podendo receber um valor inteiro, em seguida mostre as informações obtidas (nome e idade) e peça ao usuário que digite 2 números para que sejam somados, mostre a soma dos 2 números."
   ]
  },
  {
   "cell_type": "code",
   "execution_count": 24,
   "metadata": {},
   "outputs": [
    {
     "name": "stdout",
     "output_type": "stream",
     "text": [
      "120Atividade\n"
     ]
    }
   ],
   "source": [
    "#Desafio 1\n",
    "valor1 = 70\n",
    "valor2 = 50\n",
    "texto = \"Atividade\"\n",
    "\n",
    "soma_valores = valor1 + valor2\n",
    "resultado = str(soma_valores) + texto\n",
    "\n",
    "print(resultado)"
   ]
  },
  {
   "cell_type": "code",
   "execution_count": 29,
   "metadata": {},
   "outputs": [
    {
     "name": "stdout",
     "output_type": "stream",
     "text": [
      "A soma dos valores 50 e 35 é igual a: 85\n",
      "A subtração dos valores 50 e 35 é igual a: 15\n",
      "A multiplicação dos valores 50 e 35 é igual a: 1750\n",
      "A divisão dos valores 50 e 35 é igual a: 1.4285714285714286\n"
     ]
    }
   ],
   "source": [
    "#Desafio 2\n",
    "valor1, valor2 = map(int, input(\"Insira 2 valores inteiros\").split())\n",
    "\n",
    "print(f'A soma dos valores {valor1} e {valor2} é igual a: {valor1 + valor2}')\n",
    "print(f'A subtração dos valores {valor1} e {valor2} é igual a: {valor1 - valor2}')\n",
    "print(f'A multiplicação dos valores {valor1} e {valor2} é igual a: {valor1 * valor2}')\n",
    "print(f'A divisão dos valores {valor1} e {valor2} é igual a: {valor1 / valor2}')"
   ]
  },
  {
   "cell_type": "code",
   "execution_count": null,
   "metadata": {},
   "outputs": [],
   "source": [
    "#Desafio 3\n",
    "nome = input(\"Digite seu nome: \")\n",
    "\n",
    "while True:\n",
    "    try:\n",
    "        idade = int(input(\"Digite sua idade: \"))\n",
    "        break\n",
    "    except ValueError:\n",
    "        print(\"A idade digitada é inválida!! Digite uma idade válida!\")\n",
    "\n",
    "print(f'O usuário {nome} tem {idade} anos de idade')\n",
    "\n",
    "num1, num2 = map(int, input(\"Digite dois números para serem somados:\").split())\n",
    "\n",
    "print(f'A soma dos números {num1} e {num2} é igual a: {num1 + num2}')"
   ]
  }
 ],
 "metadata": {
  "kernelspec": {
   "display_name": ".venv",
   "language": "python",
   "name": "python3"
  },
  "language_info": {
   "codemirror_mode": {
    "name": "ipython",
    "version": 3
   },
   "file_extension": ".py",
   "mimetype": "text/x-python",
   "name": "python",
   "nbconvert_exporter": "python",
   "pygments_lexer": "ipython3",
   "version": "3.12.4"
  }
 },
 "nbformat": 4,
 "nbformat_minor": 2
}
