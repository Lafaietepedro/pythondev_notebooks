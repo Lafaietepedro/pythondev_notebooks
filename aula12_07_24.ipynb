{
 "cells": [
  {
   "cell_type": "markdown",
   "metadata": {},
   "source": [
    "## Jogo da Forca"
   ]
  },
  {
   "cell_type": "code",
   "execution_count": null,
   "metadata": {},
   "outputs": [],
   "source": [
    "import random\n",
    "\n",
    "lista_palavras = ['python', 'programação', 'computador','notebook','software','openai','algoritmo','programa']\n",
    "\n",
    "palavra = random.choice(lista_palavras)\n",
    "\n",
    "letras_corretas = []\n",
    "letras_erradas = []\n",
    "\n",
    "tentativas = 6\n",
    "\n",
    "while True:\n",
    "    palavra_escondida = ''\n",
    "    for letra in palavra:\n",
    "        if letra in letras_corretas:\n",
    "            palavra_escondida += letra\n",
    "        else:\n",
    "            palavra_escondida += '_'\n",
    "            \n",
    "    print(f'Palavra: {palavra_escondida}')\n",
    "    print(f'Letras erradas: {letras_erradas}')\n",
    "    print(f'Tentativas restantes: {tentativas}')\n",
    "    \n",
    "    if palavra_escondida == palavra:\n",
    "        print('Parabéns, você ganhou!')\n",
    "        break\n",
    "    elif tentativas == 0:\n",
    "        print(f'Você perdeu! A palavra era {palavra}')\n",
    "        break\n",
    "    \n",
    "    letra_usuario = input(\"Digite uma letra: \").lower()\n",
    "    \n",
    "    if letra_usuario in palavra:\n",
    "        print(\"Letra correta!\")\n",
    "        letras_corretas.append(letra_usuario)\n",
    "    else:\n",
    "        print(\"Letra errada!\")\n",
    "        letras_erradas.append(letra_usuario)\n",
    "        tentativas -= 1"
   ]
  }
 ],
 "metadata": {
  "language_info": {
   "name": "python"
  }
 },
 "nbformat": 4,
 "nbformat_minor": 2
}
