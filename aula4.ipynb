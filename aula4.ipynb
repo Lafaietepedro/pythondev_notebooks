{
 "cells": [
  {
   "cell_type": "markdown",
   "metadata": {},
   "source": [
    "## Atividade\n",
    "\n",
    "- Crie um programa para o Boletim de notas do aluno.Guarde o nome do aluno, as notas e calcule a média final do aluno\n",
    "- Disciplinas:\n",
    "    - Matemática\n",
    "    - Português\n",
    "    - Geografia\n",
    "    - História\n",
    "    - Física\n",
    "- Ao obter as notas e a média das notas, imprima o boletim do aluno informando as notas das matérias e com quanto ele ficou de média "
   ]
  },
  {
   "cell_type": "code",
   "execution_count": 16,
   "metadata": {},
   "outputs": [
    {
     "name": "stdout",
     "output_type": "stream",
     "text": [
      "O aluno adadaf tirou a nota 8.0 em Matemática\n",
      "O aluno adadaf tirou a nota 6.0 em Português\n",
      "O aluno adadaf tirou a nota 9.0 em Geografia\n",
      "O aluno adadaf tirou a nota 7.0 em História\n",
      "O aluno adadaf tirou a nota 5.0 em Física\n",
      "\n",
      "A média das notas do aluno adadaf é 7.0  \n"
     ]
    }
   ],
   "source": [
    "nome_aluno = input(\"Digite o nome do aluno: \")\n",
    "\n",
    "nota_matematica = input(\"Digite a nota de Matemática: \")\n",
    "nota_portugues = input(\"Digite a nota de Português: \")\n",
    "nota_geografia = input(\"Digite a nota de Geografia: \")\n",
    "nota_historia = input(\"Digite a nota de História: \")\n",
    "nota_fisica = input(\"Digite a nota de Física: \")\n",
    "\n",
    "nota_matematica = float(nota_matematica)\n",
    "nota_portugues = float(nota_portugues)\n",
    "nota_geografia = float(nota_geografia)\n",
    "nota_historia = float(nota_historia)\n",
    "nota_fisica = float(nota_fisica)\n",
    "\n",
    "media_notas = (nota_matematica + nota_portugues + nota_geografia + nota_historia + nota_fisica) / 5\n",
    "\n",
    "print(f\"O aluno {nome_aluno} tirou a nota {nota_matematica:.1f} em Matemática\")\n",
    "print(f\"O aluno {nome_aluno} tirou a nota {nota_portugues:.1f} em Português\")\n",
    "print(f\"O aluno {nome_aluno} tirou a nota {nota_geografia:.1f} em Geografia\")\n",
    "print(f\"O aluno {nome_aluno} tirou a nota {nota_historia:.1f} em História\")\n",
    "print(f\"O aluno {nome_aluno} tirou a nota {nota_fisica:.1f} em Física\\n\")\n",
    "\n",
    "print(f\"A média das notas do aluno {nome_aluno} é {media_notas:.1f}\")"
   ]
  }
 ],
 "metadata": {
  "kernelspec": {
   "display_name": "Python 3",
   "language": "python",
   "name": "python3"
  },
  "language_info": {
   "codemirror_mode": {
    "name": "ipython",
    "version": 3
   },
   "file_extension": ".py",
   "mimetype": "text/x-python",
   "name": "python",
   "nbconvert_exporter": "python",
   "pygments_lexer": "ipython3",
   "version": "3.12.4"
  }
 },
 "nbformat": 4,
 "nbformat_minor": 2
}
